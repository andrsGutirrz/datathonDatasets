{
 "cells": [
  {
   "cell_type": "code",
   "execution_count": 1,
   "metadata": {},
   "outputs": [],
   "source": [
    "import pandas as pd\n",
    "import numpy as np"
   ]
  },
  {
   "cell_type": "markdown",
   "metadata": {},
   "source": [
    "# Read dataset"
   ]
  },
  {
   "cell_type": "code",
   "execution_count": 2,
   "metadata": {},
   "outputs": [
    {
     "data": {
      "text/html": [
       "<div>\n",
       "<style scoped>\n",
       "    .dataframe tbody tr th:only-of-type {\n",
       "        vertical-align: middle;\n",
       "    }\n",
       "\n",
       "    .dataframe tbody tr th {\n",
       "        vertical-align: top;\n",
       "    }\n",
       "\n",
       "    .dataframe thead th {\n",
       "        text-align: right;\n",
       "    }\n",
       "</style>\n",
       "<table border=\"1\" class=\"dataframe\">\n",
       "  <thead>\n",
       "    <tr style=\"text-align: right;\">\n",
       "      <th></th>\n",
       "      <th>dates</th>\n",
       "      <th>Tom</th>\n",
       "      <th>Joe</th>\n",
       "      <th>Charlie</th>\n",
       "    </tr>\n",
       "  </thead>\n",
       "  <tbody>\n",
       "    <tr>\n",
       "      <th>0</th>\n",
       "      <td>10/16/2016</td>\n",
       "      <td>131.10</td>\n",
       "      <td>18.78</td>\n",
       "      <td>210.34</td>\n",
       "    </tr>\n",
       "    <tr>\n",
       "      <th>1</th>\n",
       "      <td>10/17/2016</td>\n",
       "      <td>459.13</td>\n",
       "      <td>424.17</td>\n",
       "      <td>176.03</td>\n",
       "    </tr>\n",
       "    <tr>\n",
       "      <th>2</th>\n",
       "      <td>10/18/2016</td>\n",
       "      <td>338.39</td>\n",
       "      <td>376.78</td>\n",
       "      <td>334.06</td>\n",
       "    </tr>\n",
       "    <tr>\n",
       "      <th>3</th>\n",
       "      <td>10/19/2016</td>\n",
       "      <td>361.32</td>\n",
       "      <td>349.26</td>\n",
       "      <td>456.03</td>\n",
       "    </tr>\n",
       "    <tr>\n",
       "      <th>4</th>\n",
       "      <td>10/20/2016</td>\n",
       "      <td>25.39</td>\n",
       "      <td>434.77</td>\n",
       "      <td>462.00</td>\n",
       "    </tr>\n",
       "  </tbody>\n",
       "</table>\n",
       "</div>"
      ],
      "text/plain": [
       "        dates     Tom     Joe  Charlie\n",
       "0  10/16/2016  131.10   18.78   210.34\n",
       "1  10/17/2016  459.13  424.17   176.03\n",
       "2  10/18/2016  338.39  376.78   334.06\n",
       "3  10/19/2016  361.32  349.26   456.03\n",
       "4  10/20/2016   25.39  434.77   462.00"
      ]
     },
     "execution_count": 2,
     "metadata": {},
     "output_type": "execute_result"
    }
   ],
   "source": [
    "pymarket = pd.read_csv('../datasets/pymarket.csv')\n",
    "pymarket.head()"
   ]
  },
  {
   "cell_type": "markdown",
   "metadata": {},
   "source": [
    "### 1) How much Tom has expended in Pymarket\n",
    "return a value"
   ]
  },
  {
   "cell_type": "code",
   "execution_count": 3,
   "metadata": {},
   "outputs": [
    {
     "data": {
      "text/plain": [
       "222564.53"
      ]
     },
     "execution_count": 3,
     "metadata": {},
     "output_type": "execute_result"
    }
   ],
   "source": [
    "# Answer 1\n",
    "pymarket['Tom'].sum()"
   ]
  },
  {
   "cell_type": "markdown",
   "metadata": {},
   "source": [
    "### 2) Total and mean of Tom and Joe expenses  \n",
    "return a dataframe cols: Tom and Joe ; index: sum and mea \n",
    "in that order"
   ]
  },
  {
   "cell_type": "code",
   "execution_count": 4,
   "metadata": {},
   "outputs": [
    {
     "data": {
      "text/html": [
       "<div>\n",
       "<style scoped>\n",
       "    .dataframe tbody tr th:only-of-type {\n",
       "        vertical-align: middle;\n",
       "    }\n",
       "\n",
       "    .dataframe tbody tr th {\n",
       "        vertical-align: top;\n",
       "    }\n",
       "\n",
       "    .dataframe thead th {\n",
       "        text-align: right;\n",
       "    }\n",
       "</style>\n",
       "<table border=\"1\" class=\"dataframe\">\n",
       "  <thead>\n",
       "    <tr style=\"text-align: right;\">\n",
       "      <th></th>\n",
       "      <th>Tom</th>\n",
       "      <th>Joe</th>\n",
       "    </tr>\n",
       "  </thead>\n",
       "  <tbody>\n",
       "    <tr>\n",
       "      <th>sum</th>\n",
       "      <td>222564.530000</td>\n",
       "      <td>214566.86000</td>\n",
       "    </tr>\n",
       "    <tr>\n",
       "      <th>mean</th>\n",
       "      <td>244.307936</td>\n",
       "      <td>237.61557</td>\n",
       "    </tr>\n",
       "  </tbody>\n",
       "</table>\n",
       "</div>"
      ],
      "text/plain": [
       "                Tom           Joe\n",
       "sum   222564.530000  214566.86000\n",
       "mean     244.307936     237.61557"
      ]
     },
     "execution_count": 4,
     "metadata": {},
     "output_type": "execute_result"
    }
   ],
   "source": [
    "pymarket[['Tom','Joe']].agg(['sum', 'mean'])"
   ]
  },
  {
   "cell_type": "code",
   "execution_count": 8,
   "metadata": {},
   "outputs": [
    {
     "data": {
      "text/plain": [
       "Index(['Tom', 'Joe'], dtype='object')"
      ]
     },
     "execution_count": 8,
     "metadata": {},
     "output_type": "execute_result"
    }
   ],
   "source": [
    "two = pymarket[['Tom','Joe']].agg(['sum', 'mean'])\n",
    "two.columns"
   ]
  },
  {
   "cell_type": "markdown",
   "metadata": {},
   "source": [
    "### 3) Which are the days in which the friends expensed more than $100 together  \n",
    "return series of dates from oldest to newest"
   ]
  },
  {
   "cell_type": "code",
   "execution_count": 4,
   "metadata": {},
   "outputs": [
    {
     "data": {
      "text/plain": [
       "0    10/16/2016\n",
       "1    10/17/2016\n",
       "2    10/18/2016\n",
       "3    10/19/2016\n",
       "4    10/20/2016\n",
       "Name: dates, dtype: object"
      ]
     },
     "execution_count": 4,
     "metadata": {},
     "output_type": "execute_result"
    }
   ],
   "source": [
    "pymarket.loc[pymarket.sum(axis=1) > 100]['dates'].head() #just print first 5 elements"
   ]
  },
  {
   "cell_type": "code",
   "execution_count": 12,
   "metadata": {},
   "outputs": [
    {
     "data": {
      "text/plain": [
       "'10/16/2016'"
      ]
     },
     "execution_count": 12,
     "metadata": {},
     "output_type": "execute_result"
    }
   ],
   "source": [
    "three = pymarket.loc[pymarket.sum(axis=1) > 100]['dates']\n",
    "three.iloc[0]"
   ]
  },
  {
   "cell_type": "markdown",
   "metadata": {},
   "source": [
    "### 4) Which are the days in which the friends didnt go to the market, any of them\n",
    "return list of string of dates from oldest to newest"
   ]
  },
  {
   "cell_type": "code",
   "execution_count": 13,
   "metadata": {},
   "outputs": [
    {
     "data": {
      "text/html": [
       "<div>\n",
       "<style scoped>\n",
       "    .dataframe tbody tr th:only-of-type {\n",
       "        vertical-align: middle;\n",
       "    }\n",
       "\n",
       "    .dataframe tbody tr th {\n",
       "        vertical-align: top;\n",
       "    }\n",
       "\n",
       "    .dataframe thead th {\n",
       "        text-align: right;\n",
       "    }\n",
       "</style>\n",
       "<table border=\"1\" class=\"dataframe\">\n",
       "  <thead>\n",
       "    <tr style=\"text-align: right;\">\n",
       "      <th></th>\n",
       "      <th>Tom</th>\n",
       "      <th>Joe</th>\n",
       "      <th>Charlie</th>\n",
       "    </tr>\n",
       "    <tr>\n",
       "      <th>dates</th>\n",
       "      <th></th>\n",
       "      <th></th>\n",
       "      <th></th>\n",
       "    </tr>\n",
       "  </thead>\n",
       "  <tbody>\n",
       "    <tr>\n",
       "      <th>10/16/2016</th>\n",
       "      <td>131.10</td>\n",
       "      <td>18.78</td>\n",
       "      <td>210.34</td>\n",
       "    </tr>\n",
       "    <tr>\n",
       "      <th>10/17/2016</th>\n",
       "      <td>459.13</td>\n",
       "      <td>424.17</td>\n",
       "      <td>176.03</td>\n",
       "    </tr>\n",
       "    <tr>\n",
       "      <th>10/18/2016</th>\n",
       "      <td>338.39</td>\n",
       "      <td>376.78</td>\n",
       "      <td>334.06</td>\n",
       "    </tr>\n",
       "  </tbody>\n",
       "</table>\n",
       "</div>"
      ],
      "text/plain": [
       "               Tom     Joe  Charlie\n",
       "dates                              \n",
       "10/16/2016  131.10   18.78   210.34\n",
       "10/17/2016  459.13  424.17   176.03\n",
       "10/18/2016  338.39  376.78   334.06"
      ]
     },
     "execution_count": 13,
     "metadata": {},
     "output_type": "execute_result"
    }
   ],
   "source": [
    "# first convert datime to index, to work better\n",
    "pymarket2 = pymarket.set_index('dates')\n",
    "pymarket2.head(3)"
   ]
  },
  {
   "cell_type": "code",
   "execution_count": 14,
   "metadata": {},
   "outputs": [
    {
     "data": {
      "text/plain": [
       "['10/30/2016', '11/5/2016', '12/11/2016', '12/18/2016', '12/21/2016']"
      ]
     },
     "execution_count": 14,
     "metadata": {},
     "output_type": "execute_result"
    }
   ],
   "source": [
    "pymarket2.loc[pymarket2.isnull().all(axis=1)].index.tolist()[:5] # just print 5"
   ]
  },
  {
   "cell_type": "code",
   "execution_count": 15,
   "metadata": {},
   "outputs": [
    {
     "data": {
      "text/plain": [
       "42"
      ]
     },
     "execution_count": 15,
     "metadata": {},
     "output_type": "execute_result"
    }
   ],
   "source": [
    "len(pymarket2.loc[pymarket2.isnull().all(axis=1)].index.tolist())"
   ]
  },
  {
   "cell_type": "markdown",
   "metadata": {},
   "source": [
    "### 5) Who spent more than the others and who spent less (Whole records)\n",
    "return tuple of the names (Who spend more,   Who spend less)"
   ]
  },
  {
   "cell_type": "code",
   "execution_count": 12,
   "metadata": {},
   "outputs": [
    {
     "data": {
      "text/plain": [
       "('Tom', 'Joe')"
      ]
     },
     "execution_count": 12,
     "metadata": {},
     "output_type": "execute_result"
    }
   ],
   "source": [
    "(pymarket2.max().idxmax(),  pymarket2.min().idxmin())"
   ]
  },
  {
   "cell_type": "markdown",
   "metadata": {},
   "source": [
    "### 6) Who was the guy that visit the market more frecuently\n",
    "return the name (string)"
   ]
  },
  {
   "cell_type": "code",
   "execution_count": 13,
   "metadata": {},
   "outputs": [
    {
     "data": {
      "text/plain": [
       "'Charlie'"
      ]
     },
     "execution_count": 13,
     "metadata": {},
     "output_type": "execute_result"
    }
   ],
   "source": [
    "pymarket2.count().idxmax()"
   ]
  },
  {
   "cell_type": "code",
   "execution_count": null,
   "metadata": {},
   "outputs": [],
   "source": []
  },
  {
   "cell_type": "markdown",
   "metadata": {},
   "source": [
    "### 7) On average, who spends  more every bi-weekly?\n",
    "return a name (str)"
   ]
  },
  {
   "cell_type": "code",
   "execution_count": 16,
   "metadata": {},
   "outputs": [
    {
     "data": {
      "text/plain": [
       "Timestamp('2016-10-16 00:00:00')"
      ]
     },
     "execution_count": 16,
     "metadata": {},
     "output_type": "execute_result"
    }
   ],
   "source": [
    "#convert index to timestamp\n",
    "pymarket['dates']= pd.to_datetime(pymarket['dates']) \n",
    "pymarket.iloc[0].dates"
   ]
  },
  {
   "cell_type": "code",
   "execution_count": 17,
   "metadata": {},
   "outputs": [
    {
     "data": {
      "text/html": [
       "<div>\n",
       "<style scoped>\n",
       "    .dataframe tbody tr th:only-of-type {\n",
       "        vertical-align: middle;\n",
       "    }\n",
       "\n",
       "    .dataframe tbody tr th {\n",
       "        vertical-align: top;\n",
       "    }\n",
       "\n",
       "    .dataframe thead th {\n",
       "        text-align: right;\n",
       "    }\n",
       "</style>\n",
       "<table border=\"1\" class=\"dataframe\">\n",
       "  <thead>\n",
       "    <tr style=\"text-align: right;\">\n",
       "      <th></th>\n",
       "      <th>dates</th>\n",
       "      <th>Tom</th>\n",
       "      <th>Joe</th>\n",
       "      <th>Charlie</th>\n",
       "    </tr>\n",
       "  </thead>\n",
       "  <tbody>\n",
       "    <tr>\n",
       "      <th>0</th>\n",
       "      <td>2016-10-16</td>\n",
       "      <td>131.10</td>\n",
       "      <td>18.78</td>\n",
       "      <td>210.34</td>\n",
       "    </tr>\n",
       "    <tr>\n",
       "      <th>1</th>\n",
       "      <td>2016-10-17</td>\n",
       "      <td>459.13</td>\n",
       "      <td>424.17</td>\n",
       "      <td>176.03</td>\n",
       "    </tr>\n",
       "    <tr>\n",
       "      <th>2</th>\n",
       "      <td>2016-10-18</td>\n",
       "      <td>338.39</td>\n",
       "      <td>376.78</td>\n",
       "      <td>334.06</td>\n",
       "    </tr>\n",
       "  </tbody>\n",
       "</table>\n",
       "</div>"
      ],
      "text/plain": [
       "       dates     Tom     Joe  Charlie\n",
       "0 2016-10-16  131.10   18.78   210.34\n",
       "1 2016-10-17  459.13  424.17   176.03\n",
       "2 2016-10-18  338.39  376.78   334.06"
      ]
     },
     "execution_count": 17,
     "metadata": {},
     "output_type": "execute_result"
    }
   ],
   "source": [
    "pymarket.head(3)"
   ]
  },
  {
   "cell_type": "code",
   "execution_count": 18,
   "metadata": {},
   "outputs": [],
   "source": [
    "# create grouper\n",
    "grouper = pd.Grouper(key='dates', freq='SM')"
   ]
  },
  {
   "cell_type": "code",
   "execution_count": 22,
   "metadata": {},
   "outputs": [
    {
     "data": {
      "text/plain": [
       "'Charlie'"
      ]
     },
     "execution_count": 22,
     "metadata": {},
     "output_type": "execute_result"
    }
   ],
   "source": [
    "pymarket.groupby(grouper).sum().mean().idxmax()"
   ]
  },
  {
   "cell_type": "markdown",
   "metadata": {},
   "source": [
    "### 8) Which are the dates in which each friend spends less than $10  \n",
    "returns a list of dates from oldest to newest"
   ]
  },
  {
   "cell_type": "code",
   "execution_count": 16,
   "metadata": {},
   "outputs": [
    {
     "data": {
      "text/html": [
       "<div>\n",
       "<style scoped>\n",
       "    .dataframe tbody tr th:only-of-type {\n",
       "        vertical-align: middle;\n",
       "    }\n",
       "\n",
       "    .dataframe tbody tr th {\n",
       "        vertical-align: top;\n",
       "    }\n",
       "\n",
       "    .dataframe thead th {\n",
       "        text-align: right;\n",
       "    }\n",
       "</style>\n",
       "<table border=\"1\" class=\"dataframe\">\n",
       "  <thead>\n",
       "    <tr style=\"text-align: right;\">\n",
       "      <th></th>\n",
       "      <th>Tom</th>\n",
       "      <th>Joe</th>\n",
       "      <th>Charlie</th>\n",
       "    </tr>\n",
       "    <tr>\n",
       "      <th>dates</th>\n",
       "      <th></th>\n",
       "      <th></th>\n",
       "      <th></th>\n",
       "    </tr>\n",
       "  </thead>\n",
       "  <tbody>\n",
       "    <tr>\n",
       "      <th>10/16/2016</th>\n",
       "      <td>131.10</td>\n",
       "      <td>18.78</td>\n",
       "      <td>210.34</td>\n",
       "    </tr>\n",
       "    <tr>\n",
       "      <th>10/17/2016</th>\n",
       "      <td>459.13</td>\n",
       "      <td>424.17</td>\n",
       "      <td>176.03</td>\n",
       "    </tr>\n",
       "    <tr>\n",
       "      <th>10/18/2016</th>\n",
       "      <td>338.39</td>\n",
       "      <td>376.78</td>\n",
       "      <td>334.06</td>\n",
       "    </tr>\n",
       "  </tbody>\n",
       "</table>\n",
       "</div>"
      ],
      "text/plain": [
       "               Tom     Joe  Charlie\n",
       "dates                              \n",
       "10/16/2016  131.10   18.78   210.34\n",
       "10/17/2016  459.13  424.17   176.03\n",
       "10/18/2016  338.39  376.78   334.06"
      ]
     },
     "execution_count": 16,
     "metadata": {},
     "output_type": "execute_result"
    }
   ],
   "source": [
    "pymarket2 = pymarket.set_index('dates')\n",
    "pymarket2.head(3)"
   ]
  },
  {
   "cell_type": "code",
   "execution_count": 17,
   "metadata": {},
   "outputs": [
    {
     "data": {
      "text/plain": [
       "['11/17/2016',\n",
       " '2/11/2017',\n",
       " '3/11/2017',\n",
       " '4/3/2017',\n",
       " '7/3/2017',\n",
       " '8/18/2017',\n",
       " '9/9/2017',\n",
       " '10/3/2017',\n",
       " '1/22/2018',\n",
       " '2/2/2018',\n",
       " '3/28/2018',\n",
       " '4/25/2018',\n",
       " '7/26/2018',\n",
       " '9/28/2018',\n",
       " '10/3/2018',\n",
       " '11/23/2018',\n",
       " '12/6/2018',\n",
       " '12/19/2018',\n",
       " '2/6/2019',\n",
       " '2/22/2019',\n",
       " '3/24/2019']"
      ]
     },
     "execution_count": 17,
     "metadata": {},
     "output_type": "execute_result"
    }
   ],
   "source": [
    "pymarket[(pymarket.Tom < 10) & (pymarket.Joe < 10) & (pymarket.Charlie < 10)]['dates'].astype(str).tolist()"
   ]
  },
  {
   "cell_type": "code",
   "execution_count": 18,
   "metadata": {},
   "outputs": [
    {
     "data": {
      "text/plain": [
       "21"
      ]
     },
     "execution_count": 18,
     "metadata": {},
     "output_type": "execute_result"
    }
   ],
   "source": [
    "len(pymarket[(pymarket.Tom < 10) & (pymarket.Joe < 10) & (pymarket.Charlie < 10)]['dates'].astype(str).tolist())"
   ]
  },
  {
   "cell_type": "markdown",
   "metadata": {},
   "source": [
    "### 9) Create a new column called 'Tips' and calculate the total amount payed by tips for all friends\n",
    "Our friends usually pay tips to the market. The value of tip is the value that rounds (ceil) the total cost by person.\n",
    "Example, if Tom pays \\\\$8.3, then the tip will be \\\\$0.7  \n",
    "Return a dataframe with 'Tips' column\n"
   ]
  },
  {
   "cell_type": "code",
   "execution_count": 19,
   "metadata": {},
   "outputs": [
    {
     "data": {
      "text/html": [
       "<div>\n",
       "<style scoped>\n",
       "    .dataframe tbody tr th:only-of-type {\n",
       "        vertical-align: middle;\n",
       "    }\n",
       "\n",
       "    .dataframe tbody tr th {\n",
       "        vertical-align: top;\n",
       "    }\n",
       "\n",
       "    .dataframe thead th {\n",
       "        text-align: right;\n",
       "    }\n",
       "</style>\n",
       "<table border=\"1\" class=\"dataframe\">\n",
       "  <thead>\n",
       "    <tr style=\"text-align: right;\">\n",
       "      <th></th>\n",
       "      <th>dates</th>\n",
       "      <th>Tom</th>\n",
       "      <th>Joe</th>\n",
       "      <th>Charlie</th>\n",
       "      <th>Tips</th>\n",
       "    </tr>\n",
       "  </thead>\n",
       "  <tbody>\n",
       "    <tr>\n",
       "      <th>0</th>\n",
       "      <td>10/16/2016</td>\n",
       "      <td>131.10</td>\n",
       "      <td>18.78</td>\n",
       "      <td>210.34</td>\n",
       "      <td>0</td>\n",
       "    </tr>\n",
       "    <tr>\n",
       "      <th>1</th>\n",
       "      <td>10/17/2016</td>\n",
       "      <td>459.13</td>\n",
       "      <td>424.17</td>\n",
       "      <td>176.03</td>\n",
       "      <td>0</td>\n",
       "    </tr>\n",
       "    <tr>\n",
       "      <th>2</th>\n",
       "      <td>10/18/2016</td>\n",
       "      <td>338.39</td>\n",
       "      <td>376.78</td>\n",
       "      <td>334.06</td>\n",
       "      <td>0</td>\n",
       "    </tr>\n",
       "  </tbody>\n",
       "</table>\n",
       "</div>"
      ],
      "text/plain": [
       "        dates     Tom     Joe  Charlie  Tips\n",
       "0  10/16/2016  131.10   18.78   210.34     0\n",
       "1  10/17/2016  459.13  424.17   176.03     0\n",
       "2  10/18/2016  338.39  376.78   334.06     0"
      ]
     },
     "execution_count": 19,
     "metadata": {},
     "output_type": "execute_result"
    }
   ],
   "source": [
    "pymarket['Tips'] = 0\n",
    "pymarket.head(3)"
   ]
  },
  {
   "cell_type": "code",
   "execution_count": 20,
   "metadata": {},
   "outputs": [],
   "source": [
    "pymarket9 = pymarket.fillna(0)"
   ]
  },
  {
   "cell_type": "code",
   "execution_count": 21,
   "metadata": {},
   "outputs": [],
   "source": [
    "pymarket9['Tips'] = pymarket9.apply(lambda row: (row.Tom - int(row.Tom)) + (row.Joe - int(row.Joe)) + (row.Charlie - int(row.Charlie)), axis=1)"
   ]
  },
  {
   "cell_type": "code",
   "execution_count": 25,
   "metadata": {},
   "outputs": [
    {
     "data": {
      "text/plain": [
       "RangeIndex(start=0, stop=1000, step=1)"
      ]
     },
     "execution_count": 25,
     "metadata": {},
     "output_type": "execute_result"
    }
   ],
   "source": [
    "pymarket9.index"
   ]
  },
  {
   "cell_type": "markdown",
   "metadata": {},
   "source": [
    "### 10)  Find out how much Tom and Charlie could have saved in total if the discount system were available when they started buy in Pymarket\n",
    "The Pymarket  has decided to implement discounts system. Now for each purchase someone made in which spend more than $ 100, that person will receive a 7% discount  \n",
    "return tuple of *ints* of the save amount of money (Tom,Charlie)\n",
    "\n"
   ]
  },
  {
   "cell_type": "code",
   "execution_count": 27,
   "metadata": {},
   "outputs": [],
   "source": [
    "tom = pymarket['Tom']\n",
    "charlie = pymarket['Charlie']"
   ]
  },
  {
   "cell_type": "code",
   "execution_count": 28,
   "metadata": {},
   "outputs": [],
   "source": [
    "charlie_save = charlie[charlie > 100].apply(lambda row : row*0.07).sum()"
   ]
  },
  {
   "cell_type": "code",
   "execution_count": 29,
   "metadata": {},
   "outputs": [],
   "source": [
    "tom_save = tom[tom > 100].apply(lambda row : row*0.07).sum()"
   ]
  },
  {
   "cell_type": "code",
   "execution_count": 30,
   "metadata": {},
   "outputs": [
    {
     "data": {
      "text/plain": [
       "(14934, 15709)"
      ]
     },
     "execution_count": 30,
     "metadata": {},
     "output_type": "execute_result"
    }
   ],
   "source": [
    "( int(tom_save) , int(charlie_save))"
   ]
  },
  {
   "cell_type": "code",
   "execution_count": null,
   "metadata": {},
   "outputs": [],
   "source": []
  },
  {
   "cell_type": "code",
   "execution_count": null,
   "metadata": {},
   "outputs": [],
   "source": []
  },
  {
   "cell_type": "code",
   "execution_count": null,
   "metadata": {},
   "outputs": [],
   "source": []
  }
 ],
 "metadata": {
  "kernelspec": {
   "display_name": "Python 3",
   "language": "python",
   "name": "python3"
  },
  "language_info": {
   "codemirror_mode": {
    "name": "ipython",
    "version": 3
   },
   "file_extension": ".py",
   "mimetype": "text/x-python",
   "name": "python",
   "nbconvert_exporter": "python",
   "pygments_lexer": "ipython3",
   "version": "3.7.1"
  }
 },
 "nbformat": 4,
 "nbformat_minor": 2
}
