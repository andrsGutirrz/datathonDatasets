{
 "cells": [
  {
   "cell_type": "code",
   "execution_count": 1,
   "metadata": {},
   "outputs": [],
   "source": [
    "from itertools import compress"
   ]
  },
  {
   "cell_type": "code",
   "execution_count": 2,
   "metadata": {},
   "outputs": [],
   "source": [
    "text = \"\"\"But creeping through the palm forests of Costa Rica’s Central Pacific \n",
    "is another insect that even the eerie-looking spiders have nightmares about.\n",
    "Found only in Costa Rica, the Hymenoepimecis argyra parasite wasp \n",
    "doesn’t just kill orb spiders. It also takes over the spiders’ minds \n",
    "and forces them to do its bidding. \n",
    "Also known as the “zombie wasp,” H. argyra uses a cocktail of mind-altering \n",
    "chemicals and poisons to force the orb spider to serve as a host and first \n",
    "meal for its offspring.\"\"\""
   ]
  },
  {
   "cell_type": "code",
   "execution_count": 3,
   "metadata": {},
   "outputs": [
    {
     "data": {
      "text/plain": [
       "'But creeping through the palm forests of Costa Rica’s Central Pacific \\nis another insect that even the eerie-looking spiders have nightmares about.\\nFound only in Costa Rica, the Hymenoepimecis argyra parasite wasp \\ndoesn’t just kill orb spiders. It also takes over the spiders’ minds \\nand forces them to do its bidding. \\nAlso known as the “zombie wasp,” H. argyra uses a cocktail of mind-altering \\nchemicals and poisons to force the orb spider to serve as a host and first \\nmeal for its offspring.'"
      ]
     },
     "execution_count": 3,
     "metadata": {},
     "output_type": "execute_result"
    }
   ],
   "source": [
    "text"
   ]
  },
  {
   "cell_type": "markdown",
   "metadata": {},
   "source": [
    "### Find the string phrase using this a mask\n",
    "You have to take this integers list and create a binary mask and then with the binary mask  \n",
    "decodify the hidden phrase in text variable  \n",
    "Create the binary mask: Put 1 over those positions aviable on pos list, otherwise put a 0"
   ]
  },
  {
   "cell_type": "code",
   "execution_count": 4,
   "metadata": {},
   "outputs": [],
   "source": [
    "pos = [8,157,165,175,183,219,222,234,252,292,326,333]"
   ]
  },
  {
   "cell_type": "code",
   "execution_count": 5,
   "metadata": {},
   "outputs": [],
   "source": [
    "maskBin = [1 if x[0] in pos else 0 for x in enumerate(text)]"
   ]
  },
  {
   "cell_type": "code",
   "execution_count": 6,
   "metadata": {},
   "outputs": [],
   "source": [
    "code = list(compress(text,maskBin))"
   ]
  },
  {
   "cell_type": "code",
   "execution_count": 7,
   "metadata": {},
   "outputs": [
    {
     "data": {
      "text/plain": [
       "'python rocks'"
      ]
     },
     "execution_count": 7,
     "metadata": {},
     "output_type": "execute_result"
    }
   ],
   "source": [
    "\"\".join(code)"
   ]
  },
  {
   "cell_type": "code",
   "execution_count": null,
   "metadata": {},
   "outputs": [],
   "source": []
  },
  {
   "cell_type": "code",
   "execution_count": null,
   "metadata": {},
   "outputs": [],
   "source": []
  }
 ],
 "metadata": {
  "kernelspec": {
   "display_name": "Python 3",
   "language": "python",
   "name": "python3"
  },
  "language_info": {
   "codemirror_mode": {
    "name": "ipython",
    "version": 3
   },
   "file_extension": ".py",
   "mimetype": "text/x-python",
   "name": "python",
   "nbconvert_exporter": "python",
   "pygments_lexer": "ipython3",
   "version": "3.7.1"
  }
 },
 "nbformat": 4,
 "nbformat_minor": 2
}
