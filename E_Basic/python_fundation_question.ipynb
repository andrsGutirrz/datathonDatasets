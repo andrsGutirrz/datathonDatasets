{
 "cells": [
  {
   "cell_type": "markdown",
   "metadata": {},
   "source": [
    "## 1 ) Question #\n",
    "Defined a dataset as a list of tuples as the following.\n",
    "Create a Python code which return a simple list containing the name, position and salary of each person on the list like this:\n",
    "['Sue', 'boss', 8000, 'John', 'dev', 6500, 'Jessie', 'admin', 5000, 'Julie', 'facilities', 3000]\n",
    "\n",
    "Expected result: a list"
   ]
  },
  {
   "cell_type": "code",
   "execution_count": 2,
   "metadata": {},
   "outputs": [],
   "source": [
    "dataset = [('Sue','boss',8000), ('John','dev',6500), ('Jessie','admin',5000),('Julie','facilities',3000)]"
   ]
  },
  {
   "cell_type": "code",
   "execution_count": 3,
   "metadata": {},
   "outputs": [
    {
     "data": {
      "text/plain": [
       "['Sue',\n",
       " 'boss',\n",
       " 8000,\n",
       " 'John',\n",
       " 'dev',\n",
       " 6500,\n",
       " 'Jessie',\n",
       " 'admin',\n",
       " 5000,\n",
       " 'Julie',\n",
       " 'facilities',\n",
       " 3000]"
      ]
     },
     "execution_count": 3,
     "metadata": {},
     "output_type": "execute_result"
    }
   ],
   "source": [
    "#answer\n",
    "res = [j for i in dataset for j in i]\n",
    "res"
   ]
  },
  {
   "cell_type": "markdown",
   "metadata": {},
   "source": [
    "## 2) Question #\n",
    "Defined a dataset as a list of tuples as the following.\n",
    "Create a Python code which return a simple list containing the salary, position and name of each person on the list like this:\n",
    "[8000, 'boss', 'Sue', 6500, 'dev', 'John', 5000, 'admin', 'Jessie', 3000, 'facilities', 'Julie']\n",
    "\n",
    "Expected result: a list"
   ]
  },
  {
   "cell_type": "code",
   "execution_count": 3,
   "metadata": {},
   "outputs": [],
   "source": [
    "dataset = [('Sue','boss',8000), ('John','dev',6500), ('Jessie','admin',5000),('Julie','facilities',3000)]"
   ]
  },
  {
   "cell_type": "code",
   "execution_count": 5,
   "metadata": {
    "scrolled": true
   },
   "outputs": [
    {
     "data": {
      "text/plain": [
       "[8000,\n",
       " 'boss',\n",
       " 'Sue',\n",
       " 6500,\n",
       " 'dev',\n",
       " 'John',\n",
       " 5000,\n",
       " 'admin',\n",
       " 'Jessie',\n",
       " 3000,\n",
       " 'facilities',\n",
       " 'Julie']"
      ]
     },
     "execution_count": 5,
     "metadata": {},
     "output_type": "execute_result"
    }
   ],
   "source": [
    "#answer\n",
    "res = [j for i in dataset for j in i[::-1]]\n",
    "res"
   ]
  },
  {
   "cell_type": "markdown",
   "metadata": {},
   "source": [
    "## 3) Question #\n",
    "Defined a dataset as a list of tuples as the following.\n",
    "Create a Python code which return a simple dictonary containing the name as the key and the salary as value each person on the list like this:\n",
    "{'Sue': 8000, 'John': 6500, 'Jessie': 5000, 'Julie': 3000}\n",
    "\n",
    "Expected result: a dictionary"
   ]
  },
  {
   "cell_type": "code",
   "execution_count": 5,
   "metadata": {},
   "outputs": [],
   "source": [
    "dataset = [('Sue','boss',8000), ('John','dev',6500), ('Jessie','admin',5000),('Julie','facilities',3000)]"
   ]
  },
  {
   "cell_type": "code",
   "execution_count": 6,
   "metadata": {},
   "outputs": [
    {
     "data": {
      "text/plain": [
       "{'Sue': 8000, 'John': 6500, 'Jessie': 5000, 'Julie': 3000}"
      ]
     },
     "execution_count": 6,
     "metadata": {},
     "output_type": "execute_result"
    }
   ],
   "source": [
    "#answer\n",
    "res = dict([i[::2] for i in dataset])\n",
    "res"
   ]
  },
  {
   "cell_type": "markdown",
   "metadata": {},
   "source": [
    "## 4) Question #\n",
    "Defined a dataset as a list of tuples as the following.\n",
    "Create a Python code which return a simple dictonary containing the name as the key and the salary as value each person on the list like this:\n",
    "{'Sue': 8000, 'John': 6500, 'Jessie': 5000, 'Julie': 3000} and applying a salary raise of 1000 to each person.\n",
    "\n",
    "Expected result: a dictionary"
   ]
  },
  {
   "cell_type": "code",
   "execution_count": 7,
   "metadata": {},
   "outputs": [],
   "source": [
    "dataset = [('Sue','boss',8000), ('John','dev',6500), ('Jessie','admin',5000),('Julie','facilities',3000)]"
   ]
  },
  {
   "cell_type": "code",
   "execution_count": 8,
   "metadata": {},
   "outputs": [
    {
     "data": {
      "text/plain": [
       "{'Sue': 9000, 'John': 7500, 'Jessie': 6000, 'Julie': 4000}"
      ]
     },
     "execution_count": 8,
     "metadata": {},
     "output_type": "execute_result"
    }
   ],
   "source": [
    "#answer\n",
    "b = dict([i[::2] for i in dataset])\n",
    "for i in b:\n",
    "    b[i] += 1000\n",
    "b"
   ]
  },
  {
   "cell_type": "markdown",
   "metadata": {},
   "source": [
    "## 5) Question #\n",
    "Defined a dataset as a list of tuples as the following.\n",
    "Create a Python code which return this list sorted by salary starting with the lowerest to the highest\n",
    "\n",
    "Expected result: a list of tuples."
   ]
  },
  {
   "cell_type": "code",
   "execution_count": 9,
   "metadata": {},
   "outputs": [],
   "source": [
    "dataset = [('Sue','boss',8000), ('John','dev',6500), ('Jessie','admin',5000),('Julie','facilities',3000)]"
   ]
  },
  {
   "cell_type": "code",
   "execution_count": 11,
   "metadata": {},
   "outputs": [
    {
     "data": {
      "text/plain": [
       "[('Julie', 'facilities', 3000),\n",
       " ('Jessie', 'admin', 5000),\n",
       " ('John', 'dev', 6500),\n",
       " ('Sue', 'boss', 8000)]"
      ]
     },
     "execution_count": 11,
     "metadata": {},
     "output_type": "execute_result"
    }
   ],
   "source": [
    "#answer\n",
    "res = sorted(dataset, key=lambda x: x[2])\n",
    "res"
   ]
  }
 ],
 "metadata": {
  "kernelspec": {
   "display_name": "Python 3",
   "language": "python",
   "name": "python3"
  },
  "language_info": {
   "codemirror_mode": {
    "name": "ipython",
    "version": 3
   },
   "file_extension": ".py",
   "mimetype": "text/x-python",
   "name": "python",
   "nbconvert_exporter": "python",
   "pygments_lexer": "ipython3",
   "version": "3.7.1"
  }
 },
 "nbformat": 4,
 "nbformat_minor": 2
}
